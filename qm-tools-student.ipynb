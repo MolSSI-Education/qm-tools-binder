{
 "cells": [
  {
   "cell_type": "markdown",
   "metadata": {},
   "source": [
    "# QM Tools workshop template\n",
    "## Lesson 1: Geometry optimization"
   ]
  },
  {
   "cell_type": "code",
   "execution_count": 1,
   "metadata": {},
   "outputs": [],
   "source": [
    "import psi4\n",
    "import numpy as np\n",
    "%matplotlib inline\n",
    "import matplotlib.pyplot as plt"
   ]
  },
  {
   "cell_type": "code",
   "execution_count": 2,
   "metadata": {},
   "outputs": [],
   "source": [
    "# function to find the bond distance for two specific atoms in the optimization file\n",
    "def plot_R(filename, a, b):\n",
    "    \"\"\"\n",
    "    Function to measure the distance between two atoms in a psi4 geometry optimization output file\n",
    "    \n",
    "    Usage: plot_R(filename, a, b)\n",
    "        \n",
    "    Inputs: \n",
    "    filename: name of psi4 output file from geometry optimization calclaultion\n",
    "    a and b: atom numbers for two atoms you want to measure the distance between\n",
    "\n",
    "    Output: list of bond distance at for each optimization step\n",
    "    \"\"\"    \n",
    "    with open(filename) as f:\n",
    "        pair_notation = 'R(' + str(a) + ',' + str(b) + ')'\n",
    "        rows_with_R_pairs = [line.split() for line in f if line.find(pair_notation) > 1 and\n",
    "                             line.strip().split()[1].startswith(pair_notation)]\n",
    "        bond_distances = []\n",
    "        bond_distances.append(float(rows_with_R_pairs[0][3]))\n",
    "        for item in rows_with_R_pairs:\n",
    "            bond_distances.append(float(item[6]))\n",
    "        return bond_distances"
   ]
  },
  {
   "cell_type": "code",
   "execution_count": 3,
   "metadata": {},
   "outputs": [],
   "source": [
    "# function to find the energy in the optimization file\n",
    "def plot_energy(filename):\n",
    "    \"\"\"\n",
    "    Function to find the energy in a psi4 optimization file.\n",
    "    \n",
    "    Usage: plot_energy(filename)\n",
    "    \n",
    "    Inputs: name of psi4 output file from geometry optimization calclaultion\n",
    "    filename: name\n",
    "    \n",
    "    Output: list of energy values from each optimization step\n",
    "    \"\"\"\n",
    "    \n",
    "    with open(filename) as f:\n",
    "        #energy_string = 'Current energy'\n",
    "        energy_values = [ float(line.split()[3]) for line in f if line.strip().startswith('Current energy') ]\n",
    "        return energy_values"
   ]
  },
  {
   "cell_type": "markdown",
   "metadata": {},
   "source": [
    "```\n",
    "12\n",
    "XYZ File for Benzene\n",
    "   C       -3.98116        3.81771        0.00000\n",
    "   C       -2.63351        3.75967        0.10838\n",
    "   C       -2.11978        2.80187       -0.29323\n",
    "   C       -2.68901        1.83558       -0.80805\n",
    "   C       -3.92704        1.83138       -0.93484\n",
    "   C       -4.58021        2.71451       -0.58263\n",
    "   H       -4.52562        4.63006        0.32966\n",
    "   H       -2.09025        4.53029        0.52795\n",
    "   H       -1.09209        2.75239       -0.21305\n",
    "   H       -2.13621        1.02769       -1.13476\n",
    "   H       -4.38300        1.01321       -1.36811\n",
    "   H       -5.60487        2.68217       -0.70124\n",
    "```   "
   ]
  },
  {
   "cell_type": "markdown",
   "metadata": {},
   "source": [
    "```\n",
    "Z matrix for water dimer\n",
    "\n",
    "O1\n",
    "H2 1 1.0\n",
    "H3 1 1.0 2 104.52\n",
    "x4 2 1.0 1 90.0 3 180.0\n",
    "--\n",
    "O5 2 **R** 4 90.0 1 180.0\n",
    "H6 5 1.0 2 120.0 4 90.0\n",
    "H7 5 1.0 2 120.0 4 -90.0\n",
    "```"
   ]
  }
 ],
 "metadata": {
  "kernelspec": {
   "display_name": "Python 3",
   "language": "python",
   "name": "python3"
  },
  "language_info": {
   "codemirror_mode": {
    "name": "ipython",
    "version": 3
   },
   "file_extension": ".py",
   "mimetype": "text/x-python",
   "name": "python",
   "nbconvert_exporter": "python",
   "pygments_lexer": "ipython3",
   "version": "3.7.6"
  }
 },
 "nbformat": 4,
 "nbformat_minor": 2
}
